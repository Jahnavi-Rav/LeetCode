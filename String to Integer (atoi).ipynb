{
 "cells": [
  {
   "cell_type": "markdown",
   "id": "92a6748b",
   "metadata": {},
   "source": [
    "Implement the myAtoi(string s) function, which converts a string to a 32-bit signed integer (similar to C/C++'s atoi function).\n",
    "\n",
    "The algorithm for myAtoi(string s) is as follows:\n",
    "\n",
    "1. Read in and ignore any leading whitespace.\n",
    "2. Check if the next character (if not already at the end of the string) is '-' or '+'. Read this character in if it is either.    This determines if the final result is negative or positive respectively. Assume the result is positive if neither is present.\n",
    "3. Read in next the characters until the next non-digit character or the end of the input is reached. The rest of the string is ignored.\n",
    "4. Convert these digits into an integer (i.e. \"123\" -> 123, \"0032\" -> 32). If no digits were read, then the integer is 0. Change  the sign as necessary (from step 2).\n",
    "5. If the integer is out of the 32-bit signed integer range [-231, 231 - 1], then clamp the integer so that it remains in the range. Specifically, integers less than -231 should be clamped to -231, and integers greater than 231 - 1 should be clamped to 231 - 1.\n",
    "6. Return the integer as the final result."
   ]
  },
  {
   "cell_type": "code",
   "execution_count": 15,
   "id": "027a101a",
   "metadata": {},
   "outputs": [
    {
     "data": {
      "text/plain": [
       "78"
      ]
     },
     "execution_count": 15,
     "metadata": {},
     "output_type": "execute_result"
    }
   ],
   "source": [
    "def atoi(s: str) -> int:\n",
    "    import re\n",
    "    for i in s:\n",
    "        if s[0].isalpha() == True: return 0\n",
    "        else:\n",
    "            x = re.findall(r'^[-+]?[\\d]+', s)\n",
    "        if int(\"\".join(x)) < -2**31: return -2**31\n",
    "        elif int(\"\".join(x)) > 2**31-1: return 2**31 - 1\n",
    "        return int(\"\".join(x))\n",
    "    \n",
    "atoi(\"78 87uio\")"
   ]
  },
  {
   "cell_type": "code",
   "execution_count": 55,
   "id": "5cf07fa6",
   "metadata": {},
   "outputs": [
    {
     "name": "stdout",
     "output_type": "stream",
     "text": [
      "['32', '00', '1', '987']\n",
      "['32']\n",
      "32\n",
      "32\n",
      "None\n"
     ]
    }
   ],
   "source": [
    "import re\n",
    "s = \"32words and 00 1 987\"\n",
    "y = re.findall('[0-9]+', s)\n",
    "print(y)\n",
    "x = re.findall(r'^[-+]?[\\d]+', s)\n",
    "print(x)\n",
    "w = int(\"\".join(x))\n",
    "print(w)\n",
    "z = int(\"\".join(y[0]))\n",
    "print(z)\n",
    "def x(s):"
   ]
  },
  {
   "cell_type": "code",
   "execution_count": 35,
   "id": "52d82157",
   "metadata": {},
   "outputs": [
    {
     "data": {
      "text/plain": [
       "['1']"
      ]
     },
     "execution_count": 35,
     "metadata": {},
     "output_type": "execute_result"
    }
   ],
   "source": [
    "s = \"1\"\n",
    "re.findall(r'^[-+]?[\\d]+', s)"
   ]
  },
  {
   "cell_type": "code",
   "execution_count": null,
   "id": "c4fe2cf2",
   "metadata": {},
   "outputs": [],
   "source": [
    "x = re.findall('[0-9]+', s)"
   ]
  }
 ],
 "metadata": {
  "kernelspec": {
   "display_name": "Python 3 (ipykernel)",
   "language": "python",
   "name": "python3"
  },
  "language_info": {
   "codemirror_mode": {
    "name": "ipython",
    "version": 3
   },
   "file_extension": ".py",
   "mimetype": "text/x-python",
   "name": "python",
   "nbconvert_exporter": "python",
   "pygments_lexer": "ipython3",
   "version": "3.9.7"
  }
 },
 "nbformat": 4,
 "nbformat_minor": 5
}
