{
 "cells": [
  {
   "cell_type": "markdown",
   "id": "f384aeb0",
   "metadata": {},
   "source": [
    "Given a signed 32-bit integer x, return x with its digits reversed. If reversing x causes the value to go outside the signed 32-bit integer range [-2^31, 2^31 - 1], then return 0.\n",
    "\n",
    "Assume the environment does not allow you to store 64-bit integers (signed or unsigned). \n",
    "\n",
    "Example 1:\n",
    "\n",
    "Input: x = 123\n",
    "Output: 321\n",
    "Example 2:\n",
    "\n",
    "Input: x = -123\n",
    "Output: -321\n",
    "Example 3:\n",
    "\n",
    "Input: x = 120\n",
    "Output: 21"
   ]
  },
  {
   "cell_type": "code",
   "execution_count": 58,
   "id": "19447b71",
   "metadata": {},
   "outputs": [
    {
     "data": {
      "text/plain": [
       "21"
      ]
     },
     "execution_count": 58,
     "metadata": {},
     "output_type": "execute_result"
    }
   ],
   "source": [
    "def reverse(x: int) -> int:\n",
    "        if x<=-2**31 or x>=2**31-1:\n",
    "            return 0       \n",
    "        if x<0:\n",
    "            r = -int(str(-x)[::-1])\n",
    "        else:\n",
    "            r = int(str(x)[::-1])\n",
    "        if (r<=-2**31 or r>=2**31-1):\n",
    "             r = 0\n",
    "        return r\n",
    "reverse(120)"
   ]
  },
  {
   "cell_type": "code",
   "execution_count": null,
   "id": "28474dd1",
   "metadata": {},
   "outputs": [],
   "source": []
  },
  {
   "cell_type": "code",
   "execution_count": null,
   "id": "d4c13523",
   "metadata": {},
   "outputs": [],
   "source": []
  }
 ],
 "metadata": {
  "kernelspec": {
   "display_name": "Python 3 (ipykernel)",
   "language": "python",
   "name": "python3"
  },
  "language_info": {
   "codemirror_mode": {
    "name": "ipython",
    "version": 3
   },
   "file_extension": ".py",
   "mimetype": "text/x-python",
   "name": "python",
   "nbconvert_exporter": "python",
   "pygments_lexer": "ipython3",
   "version": "3.9.7"
  }
 },
 "nbformat": 4,
 "nbformat_minor": 5
}
