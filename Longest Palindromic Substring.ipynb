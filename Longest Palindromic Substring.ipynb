{
 "cells": [
  {
   "cell_type": "markdown",
   "id": "461d14bc",
   "metadata": {},
   "source": [
    "Given a string s, return the longest palindromic substring in s.\n",
    "\n",
    "\n",
    "Example 1:\n",
    "\n",
    "Input: s = \"babad\"\n",
    "Output: \"bab\"\n",
    "Explanation: \"aba\" is also a valid answer.\n",
    "Example 2:\n",
    "\n",
    "Input: s = \"cbbd\"\n",
    "Output: \"bb\"\n",
    " \n",
    "\n",
    "Constraints:\n",
    "\n",
    "1 <= s.length <= 1000\n",
    "s consist of only digits and English letters."
   ]
  },
  {
   "cell_type": "code",
   "execution_count": 18,
   "id": "920eaf70",
   "metadata": {},
   "outputs": [
    {
     "name": "stdout",
     "output_type": "stream",
     "text": [
      "bab\n",
      "bb\n"
     ]
    }
   ],
   "source": [
    "def longestPalindrome(s: str) -> str:\n",
    "    res = \"\"\n",
    "    for i in range(len(s)):\n",
    "        for j in range(len(s), i, -1):\n",
    "            if len(res) >= j-i:\n",
    "                break\n",
    "            elif s[i:j] == s[i:j][::-1]:\n",
    "                res = s[i:j]\n",
    "                break\n",
    "    return res\n",
    "print(longestPalindrome(\"babad\"))\n",
    "print(longestPalindrome(\"cbbd\"))"
   ]
  },
  {
   "cell_type": "code",
   "execution_count": null,
   "id": "71a7f0ed",
   "metadata": {},
   "outputs": [],
   "source": []
  },
  {
   "cell_type": "code",
   "execution_count": null,
   "id": "66534811",
   "metadata": {},
   "outputs": [],
   "source": []
  }
 ],
 "metadata": {
  "kernelspec": {
   "display_name": "Python 3 (ipykernel)",
   "language": "python",
   "name": "python3"
  },
  "language_info": {
   "codemirror_mode": {
    "name": "ipython",
    "version": 3
   },
   "file_extension": ".py",
   "mimetype": "text/x-python",
   "name": "python",
   "nbconvert_exporter": "python",
   "pygments_lexer": "ipython3",
   "version": "3.9.7"
  }
 },
 "nbformat": 4,
 "nbformat_minor": 5
}
